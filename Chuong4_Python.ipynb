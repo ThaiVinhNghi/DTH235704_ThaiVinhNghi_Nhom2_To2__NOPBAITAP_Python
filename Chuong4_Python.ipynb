{
 "cells": [
  {
   "cell_type": "code",
   "execution_count": 1,
   "id": "9b0d3012",
   "metadata": {},
   "outputs": [
    {
     "name": "stdout",
     "output_type": "stream",
     "text": [
      "Câu 1: Viết hàm để Tính diện tích tam giác\n",
      "Chương trình tính diện tích Tam Giác\n",
      "Diện tích = 6.928203230275509\n"
     ]
    }
   ],
   "source": [
    "print('Câu 1: Viết hàm để Tính diện tích tam giác')\n",
    "from math import sqrt \n",
    " \n",
    "print(\"Chương trình tính diện tích Tam Giác\") \n",
    "a=float(input(\"Nhập cạnh a>0:\")) \n",
    "b=float(input(\"Nhập cạnh b>0:\")) \n",
    "c=float(input(\"Nhập cạnh c>0:\")) \n",
    "if (a<=0 or b <=0 or c <=0) or (a+b)<=c or (a+c)<=b or b+c<=a: \n",
    "    print(\"Tam giác không hợp lệ\") \n",
    "else: \n",
    "    cv=a+b+c \n",
    "    p=cv/2 \n",
    "    dt=sqrt(p*(p-a)*(p-b)*(p-c)) \n",
    "    print(\"Diện tích =\",dt) "
   ]
  },
  {
   "cell_type": "code",
   "execution_count": 2,
   "id": "efb7bee9",
   "metadata": {},
   "outputs": [
    {
     "name": "stdout",
     "output_type": "stream",
     "text": [
      "Câu 2: Viết Hàm để chơi Game Đoán Số\n",
      "Bạn đoán lần thứ  1\n",
      "Bạn đoán sai, số máy > số bạn\n",
      "Bạn đoán lần thứ  2\n",
      "Bạn đoán sai, số máy > số bạn\n",
      "Bạn đoán lần thứ  3\n",
      "Bạn đoán sai, số máy > số bạn\n",
      "Bạn đoán lần thứ  4\n",
      "Bạn đoán sai, số máy < số bạn\n"
     ]
    },
    {
     "ename": "KeyboardInterrupt",
     "evalue": "Interrupted by user",
     "output_type": "error",
     "traceback": [
      "\u001b[31m---------------------------------------------------------------------------\u001b[39m",
      "\u001b[31mKeyboardInterrupt\u001b[39m                         Traceback (most recent call last)",
      "\u001b[36mCell\u001b[39m\u001b[36m \u001b[39m\u001b[32mIn[2]\u001b[39m\u001b[32m, line 9\u001b[39m\n\u001b[32m      7\u001b[39m \u001b[38;5;28;01mwhile\u001b[39;00m solandoan<\u001b[32m7\u001b[39m: \n\u001b[32m      8\u001b[39m     solandoan+=\u001b[32m1\u001b[39m \n\u001b[32m----> \u001b[39m\u001b[32m9\u001b[39m     songuoi=\u001b[38;5;28mint\u001b[39m(\u001b[38;5;28;43minput\u001b[39;49m\u001b[43m(\u001b[49m\u001b[33;43m\"\u001b[39;49m\u001b[33;43mMáy đoán [1..100], mời bạn đoán:\u001b[39;49m\u001b[33;43m\"\u001b[39;49m\u001b[43m)\u001b[49m) \n\u001b[32m     10\u001b[39m     \u001b[38;5;28mprint\u001b[39m(\u001b[33m\"\u001b[39m\u001b[33mBạn đoán lần thứ \u001b[39m\u001b[33m\"\u001b[39m,solandoan) \n\u001b[32m     11\u001b[39m     \u001b[38;5;28;01mif\u001b[39;00m somay==songuoi: \n",
      "\u001b[36mFile \u001b[39m\u001b[32m~\\AppData\\Roaming\\Python\\Python313\\site-packages\\ipykernel\\kernelbase.py:1275\u001b[39m, in \u001b[36mKernel.raw_input\u001b[39m\u001b[34m(self, prompt)\u001b[39m\n\u001b[32m   1273\u001b[39m     msg = \u001b[33m\"\u001b[39m\u001b[33mraw_input was called, but this frontend does not support input requests.\u001b[39m\u001b[33m\"\u001b[39m\n\u001b[32m   1274\u001b[39m     \u001b[38;5;28;01mraise\u001b[39;00m StdinNotImplementedError(msg)\n\u001b[32m-> \u001b[39m\u001b[32m1275\u001b[39m \u001b[38;5;28;01mreturn\u001b[39;00m \u001b[38;5;28;43mself\u001b[39;49m\u001b[43m.\u001b[49m\u001b[43m_input_request\u001b[49m\u001b[43m(\u001b[49m\n\u001b[32m   1276\u001b[39m \u001b[43m    \u001b[49m\u001b[38;5;28;43mstr\u001b[39;49m\u001b[43m(\u001b[49m\u001b[43mprompt\u001b[49m\u001b[43m)\u001b[49m\u001b[43m,\u001b[49m\n\u001b[32m   1277\u001b[39m \u001b[43m    \u001b[49m\u001b[38;5;28;43mself\u001b[39;49m\u001b[43m.\u001b[49m\u001b[43m_parent_ident\u001b[49m\u001b[43m[\u001b[49m\u001b[33;43m\"\u001b[39;49m\u001b[33;43mshell\u001b[39;49m\u001b[33;43m\"\u001b[39;49m\u001b[43m]\u001b[49m\u001b[43m,\u001b[49m\n\u001b[32m   1278\u001b[39m \u001b[43m    \u001b[49m\u001b[38;5;28;43mself\u001b[39;49m\u001b[43m.\u001b[49m\u001b[43mget_parent\u001b[49m\u001b[43m(\u001b[49m\u001b[33;43m\"\u001b[39;49m\u001b[33;43mshell\u001b[39;49m\u001b[33;43m\"\u001b[39;49m\u001b[43m)\u001b[49m\u001b[43m,\u001b[49m\n\u001b[32m   1279\u001b[39m \u001b[43m    \u001b[49m\u001b[43mpassword\u001b[49m\u001b[43m=\u001b[49m\u001b[38;5;28;43;01mFalse\u001b[39;49;00m\u001b[43m,\u001b[49m\n\u001b[32m   1280\u001b[39m \u001b[43m\u001b[49m\u001b[43m)\u001b[49m\n",
      "\u001b[36mFile \u001b[39m\u001b[32m~\\AppData\\Roaming\\Python\\Python313\\site-packages\\ipykernel\\kernelbase.py:1320\u001b[39m, in \u001b[36mKernel._input_request\u001b[39m\u001b[34m(self, prompt, ident, parent, password)\u001b[39m\n\u001b[32m   1317\u001b[39m \u001b[38;5;28;01mexcept\u001b[39;00m \u001b[38;5;167;01mKeyboardInterrupt\u001b[39;00m:\n\u001b[32m   1318\u001b[39m     \u001b[38;5;66;03m# re-raise KeyboardInterrupt, to truncate traceback\u001b[39;00m\n\u001b[32m   1319\u001b[39m     msg = \u001b[33m\"\u001b[39m\u001b[33mInterrupted by user\u001b[39m\u001b[33m\"\u001b[39m\n\u001b[32m-> \u001b[39m\u001b[32m1320\u001b[39m     \u001b[38;5;28;01mraise\u001b[39;00m \u001b[38;5;167;01mKeyboardInterrupt\u001b[39;00m(msg) \u001b[38;5;28;01mfrom\u001b[39;00m\u001b[38;5;250m \u001b[39m\u001b[38;5;28;01mNone\u001b[39;00m\n\u001b[32m   1321\u001b[39m \u001b[38;5;28;01mexcept\u001b[39;00m \u001b[38;5;167;01mException\u001b[39;00m:\n\u001b[32m   1322\u001b[39m     \u001b[38;5;28mself\u001b[39m.log.warning(\u001b[33m\"\u001b[39m\u001b[33mInvalid Message:\u001b[39m\u001b[33m\"\u001b[39m, exc_info=\u001b[38;5;28;01mTrue\u001b[39;00m)\n",
      "\u001b[31mKeyboardInterrupt\u001b[39m: Interrupted by user"
     ]
    }
   ],
   "source": [
    "print('Câu 2: Viết Hàm để chơi Game Đoán Số')\n",
    "from random import randrange \n",
    "while True: \n",
    "    somay=randrange(1,101) \n",
    "    solandoan=0 \n",
    "    win=False \n",
    "    while solandoan<7: \n",
    "        solandoan+=1 \n",
    "        songuoi=int(input(\"Máy đoán [1..100], mời bạn đoán:\")) \n",
    "        print(\"Bạn đoán lần thứ \",solandoan) \n",
    "        if somay==songuoi: \n",
    "            print(\"Chúc mừng bạn đoán đúng, số máy là=\",somay) \n",
    "            win=True \n",
    "            break \n",
    "        if somay>songuoi: \n",
    "            print(\"Bạn đoán sai, số máy > số bạn\") \n",
    "        elif somay<songuoi: \n",
    "            print(\"Bạn đoán sai, số máy < số bạn\") \n",
    "    if win==False: \n",
    "        print(\"GAME OVER!, số máy =\",somay) \n",
    "    hoi=input(\"Tiếp không?\") \n",
    "    if hoi==\"k\": \n",
    "        break \n",
    "print(\"Cám ơn bạn đã chơi Game!\")"
   ]
  },
  {
   "cell_type": "code",
   "execution_count": 3,
   "id": "068e9bf5",
   "metadata": {},
   "outputs": [
    {
     "name": "stdout",
     "output_type": "stream",
     "text": [
      "Câu 3: Viết hàm tính BMI\n",
      "Nhập vào chiều cao:\n",
      "Nhập vào cân nặng:\n",
      "BMI của bạn= 4.6875\n",
      "Phân loại bạn= Gầy\n",
      "Nguy cơ bệnh của bạn= Thấp\n"
     ]
    }
   ],
   "source": [
    "print('Câu 3: Viết hàm tính BMI')\n",
    "def BMI(height,weight): \n",
    "    return weight/(height**2) \n",
    "def PhanLoai(bmi): \n",
    "    if bmi<18.5: \n",
    "        return \"Gầy\" \n",
    "    elif bmi<=24.9: \n",
    "        return \"Bình thường\" \n",
    "    elif bmi<=29.9: \n",
    "        return \"Hơi Béo\" \n",
    "    elif bmi<=34.9: \n",
    "        return \"Béo Phì Cấp Độ 1\" \n",
    "    elif bmi<=39.9: \n",
    "        return \"Béo Phì Cấp Độ 2\" \n",
    "    else: \n",
    "        return \"Béo Phì Cấp độ 3\" \n",
    "def NguyCoBenh(bmi): \n",
    "    if bmi<18.5: \n",
    "        return \"Thấp\" \n",
    "    elif bmi<=24.9: \n",
    "        return \"Trung Bình\" \n",
    "    elif bmi<=29.9: \n",
    "        return \"Cao\" \n",
    "    elif bmi<=34.9: \n",
    "        return \"Cao\" \n",
    "    elif bmi<=39.9: \n",
    "        return \"Rất cao\" \n",
    "    else: \n",
    "        return \"Nguy Hiểm\" \n",
    "print(\"Nhập vào chiều cao:\") \n",
    "height=float(input()) \n",
    "print(\"Nhập vào cân nặng:\") \n",
    "weight=float(input()) \n",
    "bmi=BMI(height,weight) \n",
    "print(\"BMI của bạn=\",bmi) \n",
    "print(\"Phân loại bạn=\",PhanLoai(bmi)) \n",
    "print(\"Nguy cơ bệnh của bạn=\",NguyCoBenh(bmi)) "
   ]
  },
  {
   "cell_type": "code",
   "execution_count": 4,
   "id": "254d3be9",
   "metadata": {},
   "outputs": [
    {
     "name": "stdout",
     "output_type": "stream",
     "text": [
      "Câu 4: Viết Hàm tính ROI\n",
      "Chương trình tính ROI\n",
      "Tỉ Lệ ROI= 0.18421052631578946\n",
      "==> Không nên đầu tư\n"
     ]
    }
   ],
   "source": [
    "print('Câu 4: Viết Hàm tính ROI')\n",
    "def ROI(dt,cp): \n",
    "    return (dt-cp)/cp \n",
    "def GoiYDauTu(roi): \n",
    "    if roi>=0.75: \n",
    "        return \"Nên đầu tư\" \n",
    "    else: \n",
    "        return \"Không nên đầu tư\" \n",
    "print(\"Chương trình tính ROI\") \n",
    "dt=int(input(\"Nhập Doanh Thu:\")) \n",
    "cp=int(input(\"Nhập chi phí:\")) \n",
    "roi=ROI(dt,cp) \n",
    "print(\"Tỉ Lệ ROI=\",roi) \n",
    "print(\"==>\",GoiYDauTu(roi)) "
   ]
  },
  {
   "cell_type": "code",
   "execution_count": 5,
   "id": "f1ec3183",
   "metadata": {},
   "outputs": [
    {
     "name": "stdout",
     "output_type": "stream",
     "text": [
      "Câu 5: Viết hàm đệ qui Fibonacci\n",
      "34\n",
      "1\t1\t2\t3\t5\t8\t13\t21\t34\t"
     ]
    }
   ],
   "source": [
    "print('Câu 5: Viết hàm đệ qui Fibonacci')\n",
    "def fibonacci(n): \n",
    "    if n<=2 : \n",
    "        return 1 \n",
    "    return fibonacci(n-1)+fibonacci(n-2) \n",
    " \n",
    "def listfibo(n): \n",
    "    for i in range(1,n+1): \n",
    "        print(fibonacci(i),end='\\t') \n",
    " \n",
    "print(fibonacci(9)) \n",
    " \n",
    "listfibo(9) "
   ]
  },
  {
   "cell_type": "code",
   "execution_count": 6,
   "id": "265e3dc2",
   "metadata": {},
   "outputs": [
    {
     "name": "stdout",
     "output_type": "stream",
     "text": [
      "Câu 6: Những giá trị nào có thể xuất hiện trong randrange(0, 100)\n",
      "48 0 8 30 52 89 6 95 20 38 17 8 92 80 30 88 22 43 78 2 \n",
      "=> có thể xuất hiện 0, 34, 99, nhưng không bao giờ ra -1, 100 hay 4.5.\n"
     ]
    }
   ],
   "source": [
    "print('Câu 6: Những giá trị nào có thể xuất hiện trong randrange(0, 100)')\n",
    "'''Yêu cầu: \n",
    "Những giá trị nào có thể xuất hiện khi chạy randrange(0, 100)? \n",
    " 4.5 , 34 , -1,  100,  0,  99 '''\n",
    "import random\n",
    "for i in range(20):\n",
    "    x = random.randrange(0, 100)\n",
    "    print(x, end=\" \")\n",
    "print('\\n=> có thể xuất hiện 0, 34, 99, nhưng không bao giờ ra -1, 100 hay 4.5.')\n"
   ]
  },
  {
   "cell_type": "code",
   "execution_count": 7,
   "id": "066311b1",
   "metadata": {},
   "outputs": [
    {
     "name": "stdout",
     "output_type": "stream",
     "text": [
      "Câu 7: Tính và xuất độ dài đoạn AB\n",
      "Độ dài đoạn AB = 0.0\n"
     ]
    }
   ],
   "source": [
    "print('Câu 7: Tính và xuất độ dài đoạn AB')\n",
    "from math import sqrt\n",
    "xA = float(input(\"Nhập hoành độ xA: \"))\n",
    "yA = float(input(\"Nhập tung độ yA: \"))\n",
    "xB = float(input(\"Nhập hoành độ xB: \"))\n",
    "yB = float(input(\"Nhập tung độ yB: \"))\n",
    "\n",
    "AB = sqrt((xB - xA)**2 + (yB - yA)**2)\n",
    "\n",
    "print(\"Độ dài đoạn AB =\", AB)"
   ]
  },
  {
   "cell_type": "code",
   "execution_count": 8,
   "id": "cd26c1e8",
   "metadata": {},
   "outputs": [
    {
     "name": "stdout",
     "output_type": "stream",
     "text": [
      "Câu 8: Viết chương trình tính loga x\n",
      "log_4(5) = 1.160964047443681\n"
     ]
    }
   ],
   "source": [
    "print('Câu 8: Viết chương trình tính loga x')\n",
    "from math import log\n",
    "a = float(input(\"Nhập cơ số a (a > 0 và a ≠ 1): \"))\n",
    "x = float(input(\"Nhập số x (x > 0): \"))\n",
    "\n",
    "if a > 0 and a != 1 and x > 0:\n",
    "    loga_x = log(x) / log(a)\n",
    "    print(f\"log_{int(a)}({int(x)}) = {loga_x}\")\n",
    "else:\n",
    "    print(\"Dữ liệu không hợp lệ! Yêu cầu: x > 0, a > 0 và a ≠ 1.\")\n",
    "\n"
   ]
  },
  {
   "cell_type": "code",
   "execution_count": 9,
   "id": "13b4c981",
   "metadata": {},
   "outputs": [
    {
     "name": "stdout",
     "output_type": "stream",
     "text": [
      "Câu 9: Viết chương trình tính căn bậc 2 lồng nhau\n",
      "S(4) = 1.9903694533443939\n"
     ]
    }
   ],
   "source": [
    "print('Câu 9: Viết chương trình tính căn bậc 2 lồng nhau')\n",
    "from math import sqrt\n",
    "n = int(input(\"Nhập n (số lần lồng căn): \"))\n",
    "\n",
    "S = 0\n",
    "for i in range(n):\n",
    "    S = sqrt(2 + S)\n",
    "\n",
    "print(f\"S({n}) = {S}\")\n"
   ]
  },
  {
   "cell_type": "code",
   "execution_count": 10,
   "id": "b5becdd2",
   "metadata": {},
   "outputs": [
    {
     "name": "stdout",
     "output_type": "stream",
     "text": [
      "Câu 10: Vẽ hình dùng Sleep\n"
     ]
    }
   ],
   "source": [
    "print('Câu 10: Vẽ hình dùng Sleep')"
   ]
  }
 ],
 "metadata": {
  "kernelspec": {
   "display_name": "Python 3",
   "language": "python",
   "name": "python3"
  },
  "language_info": {
   "codemirror_mode": {
    "name": "ipython",
    "version": 3
   },
   "file_extension": ".py",
   "mimetype": "text/x-python",
   "name": "python",
   "nbconvert_exporter": "python",
   "pygments_lexer": "ipython3",
   "version": "3.13.7"
  }
 },
 "nbformat": 4,
 "nbformat_minor": 5
}

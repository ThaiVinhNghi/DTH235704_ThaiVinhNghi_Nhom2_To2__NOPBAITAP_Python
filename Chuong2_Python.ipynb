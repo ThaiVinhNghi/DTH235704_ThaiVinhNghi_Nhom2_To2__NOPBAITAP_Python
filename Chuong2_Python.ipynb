{
 "cells": [
  {
   "cell_type": "code",
   "execution_count": 3,
   "id": "0e3200ee",
   "metadata": {},
   "outputs": [
    {
     "name": "stdout",
     "output_type": "stream",
     "text": [
      "Câu 1: Chương trình tính diện tích hình tròn\n",
      "Chu vi = 12.566370614359172\n",
      "Diện tích= 4.0\n"
     ]
    }
   ],
   "source": [
    "print('Câu 1: Chương trình tính diện tích hình tròn')\n",
    "import math\n",
    "try:\n",
    "    r=float(input(\"Mời bạn nhập bán kính hình tròn:\"))\n",
    "    cv=2*math.pi*r\n",
    "    dt=r**2\n",
    "    print(\"Chu vi =\",cv)\n",
    "    print(\"Diện tích=\",dt)\n",
    "except:\n",
    "    print(\"Lỗi rồi!\")"
   ]
  },
  {
   "cell_type": "code",
   "execution_count": 4,
   "id": "ef88c87e",
   "metadata": {},
   "outputs": [
    {
     "name": "stdout",
     "output_type": "stream",
     "text": [
      "Câu 2: Chương trình tính giờ phút giây\n",
      "0 : 0 : 3\n"
     ]
    }
   ],
   "source": [
    "print('Câu 2: Chương trình tính giờ phút giây')\n",
    "t=int(input(\"Nhập số giây:\"))\n",
    "hour=(t//3600)%24\n",
    "minute=(t%3600)//60\n",
    "second=(t%3600)%60\n",
    "print(hour,\":\",minute,\":\",second)"
   ]
  },
  {
   "cell_type": "code",
   "execution_count": 5,
   "id": "1335344e",
   "metadata": {},
   "outputs": [
    {
     "name": "stdout",
     "output_type": "stream",
     "text": [
      "Câu 3: Chương trình tính điểm trung bình\n",
      "Chương trình tính điểm trung bình\n",
      "Điểm toán= 3\n",
      "Điểm lý= 5\n",
      "Điểm hóa= 7\n",
      "Điểm trung bình= 5.0\n",
      "Điểm làm tròn= 5.0\n"
     ]
    }
   ],
   "source": [
    "print('Câu 3: Chương trình tính điểm trung bình')\n",
    "print(\"Chương trình tính điểm trung bình\")\n",
    "toan,ly,hoa=eval(input(\"Nhập điểm toán,lý,hóa:\"))\n",
    "print(\"Điểm toán=\",toan)\n",
    "print(\"Điểm lý=\",ly)\n",
    "print(\"Điểm hóa=\",hoa)\n",
    "dtb=(toan+ly+hoa)/3\n",
    "print(\"Điểm trung bình=\",dtb)\n",
    "print(\"Điểm làm tròn=\",round(dtb,2))"
   ]
  },
  {
   "cell_type": "code",
   "execution_count": 6,
   "id": "dd3a0525",
   "metadata": {},
   "outputs": [
    {
     "name": "stdout",
     "output_type": "stream",
     "text": [
      "Câu 4: Python hỗ trợ những kiểu dữ liệu cơ bản nào?\n",
      "Trả lời: Kiểu dữ liệu cơ bản trong Python gồm: int, float, complex, str, bool, list, tuple, set, dict\n"
     ]
    }
   ],
   "source": [
    "print('Câu 4: Python hỗ trợ những kiểu dữ liệu cơ bản nào?')\n",
    "print('Trả lời: Kiểu dữ liệu cơ bản trong Python gồm: int, float, complex, str, bool, list, tuple, set, dict')\n"
   ]
  },
  {
   "cell_type": "code",
   "execution_count": 7,
   "id": "d526afeb",
   "metadata": {},
   "outputs": [
    {
     "name": "stdout",
     "output_type": "stream",
     "text": [
      "Câu 9: Giải thích kết quả tính toán của các biểu thức\n",
      "(a) i1 + (i2 * i3) = -13\n",
      "(b) i1 * (i2 + i3) = 4\n",
      "(c) i1 / (i2 + i3) = 1.0\n",
      "(d) i1 // (i2 + i3) = 1\n",
      "(e) i1 / i2 + i3 = -2.6\n",
      "(f) i1 // i2 + i3 = -3\n",
      "(g) 3 + 4 + 5 / 3 = 8.666666666666666\n",
      "(h) 3 + 4 + 5 // 3 = 8\n",
      "(i) (3 + 4 + 5) / 3 = 4.0\n",
      "(j) (3 + 4 + 5) // 3 = 4\n",
      "(k) d1 + (d2 * d3) = -0.5\n",
      "(l) d1 + d2 * d3 = -0.5\n",
      "(m) d1 / d2 - d3 = 0.9\n",
      "(n) d1 / (d2 - d3) = 0.36363636363636365\n",
      "(o) d1 + d2 + d3 / 3 = 6.833333333333333\n",
      "(p) (d1 + d2 + d3) / 3 = 2.1666666666666665\n",
      "(q) d1 + d2 + (d3 / 3) = 6.833333333333333\n",
      "(r) 3 * (d1 + d2) * (d1 - d3) = 52.5\n"
     ]
    }
   ],
   "source": [
    "print('Câu 9: Giải thích kết quả tính toán của các biểu thức')\n",
    "i1 = 2\n",
    "i2 = 5\n",
    "i3 = -3\n",
    "d1 = 2.0\n",
    "d2 = 5.0\n",
    "d3 = -0.5\n",
    "print('(a) i1 + (i2 * i3) =', i1 + (i2 * i3))\n",
    "print('(b) i1 * (i2 + i3) =', i1 * (i2 + i3))\n",
    "print('(c) i1 / (i2 + i3) =', i1 / (i2 + i3))\n",
    "print('(d) i1 // (i2 + i3) =', i1 // (i2 + i3))\n",
    "print('(e) i1 / i2 + i3 =', i1 / i2 + i3)\n",
    "print('(f) i1 // i2 + i3 =', i1 // i2 + i3)\n",
    "print('(g) 3 + 4 + 5 / 3 =', 3 + 4 + 5 / 3)\n",
    "print('(h) 3 + 4 + 5 // 3 =', 3 + 4 + 5 // 3)\n",
    "print('(i) (3 + 4 + 5) / 3 =', (3 + 4 + 5) / 3)\n",
    "print('(j) (3 + 4 + 5) // 3 =', (3 + 4 + 5) // 3)\n",
    "print('(k) d1 + (d2 * d3) =', d1 + (d2 * d3))\n",
    "print('(l) d1 + d2 * d3 =', d1 + d2 * d3)\n",
    "print('(m) d1 / d2 - d3 =', d1 / d2 - d3)\n",
    "print('(n) d1 / (d2 - d3) =', d1 / (d2 - d3))\n",
    "print('(o) d1 + d2 + d3 / 3 =', d1 + d2 + d3 / 3)\n",
    "print('(p) (d1 + d2 + d3) / 3 =', (d1 + d2 + d3) / 3)\n",
    "print('(q) d1 + d2 + (d3 / 3) =', d1 + d2 + (d3 / 3))\n",
    "print('(r) 3 * (d1 + d2) * (d1 - d3) =', 3 * (d1 + d2) * (d1 - d3))"
   ]
  }
 ],
 "metadata": {
  "kernelspec": {
   "display_name": "Python 3",
   "language": "python",
   "name": "python3"
  },
  "language_info": {
   "codemirror_mode": {
    "name": "ipython",
    "version": 3
   },
   "file_extension": ".py",
   "mimetype": "text/x-python",
   "name": "python",
   "nbconvert_exporter": "python",
   "pygments_lexer": "ipython3",
   "version": "3.13.7"
  }
 },
 "nbformat": 4,
 "nbformat_minor": 5
}

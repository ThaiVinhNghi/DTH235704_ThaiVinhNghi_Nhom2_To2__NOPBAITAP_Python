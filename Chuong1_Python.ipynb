{
 "cells": [
  {
   "cell_type": "code",
   "execution_count": 1,
   "id": "a44cdd95",
   "metadata": {},
   "outputs": [
    {
     "name": "stdout",
     "output_type": "stream",
     "text": [
      "Albert Einstein đã từng nói: một người không bao giờ mắc sai lầm không bao giờ thử bất kỳ điều gì mới.\n"
     ]
    }
   ],
   "source": [
    "print('Albert Einstein đã từng nói: một người không bao giờ mắc sai lầm không bao giờ thử bất kỳ điều gì mới.')"
   ]
  },
  {
   "cell_type": "code",
   "execution_count": 2,
   "id": "666761f7",
   "metadata": {},
   "outputs": [
    {
     "name": "stdout",
     "output_type": "stream",
     "text": [
      "Hello World!\n"
     ]
    }
   ],
   "source": [
    "print('Hello World!')"
   ]
  },
  {
   "cell_type": "code",
   "execution_count": 3,
   "id": "67b724ac",
   "metadata": {},
   "outputs": [
    {
     "name": "stdout",
     "output_type": "stream",
     "text": [
      "Five is greater than two!\n"
     ]
    }
   ],
   "source": [
    "if 5 > 2:\n",
    "    print('Five is greater than two!')"
   ]
  },
  {
   "cell_type": "code",
   "execution_count": 4,
   "id": "95f9de4e",
   "metadata": {},
   "outputs": [
    {
     "name": "stdout",
     "output_type": "stream",
     "text": [
      "6\n",
      "Hello Python!\n"
     ]
    }
   ],
   "source": [
    "total = 1 + \\\n",
    "2 + \\\n",
    "3\n",
    "print(total); print('Hello Python!')"
   ]
  },
  {
   "cell_type": "code",
   "execution_count": 5,
   "id": "af03bee3",
   "metadata": {},
   "outputs": [
    {
     "name": "stdout",
     "output_type": "stream",
     "text": [
      "True\n"
     ]
    }
   ],
   "source": [
    "if True:\n",
    "    print('True')\n",
    "else:\n",
    "    print('False')"
   ]
  },
  {
   "cell_type": "code",
   "execution_count": 6,
   "id": "8385633d",
   "metadata": {},
   "outputs": [
    {
     "name": "stdout",
     "output_type": "stream",
     "text": [
      "Hello, World!\n"
     ]
    }
   ],
   "source": [
    "#this is a comment\n",
    "print('Hello, World!')"
   ]
  },
  {
   "cell_type": "code",
   "execution_count": 7,
   "id": "f24c128c",
   "metadata": {},
   "outputs": [],
   "source": [
    "import math\n",
    "import os"
   ]
  },
  {
   "cell_type": "code",
   "execution_count": 8,
   "id": "81495b35",
   "metadata": {},
   "outputs": [],
   "source": [
    "def add(a, b):\n",
    "    result =  a + b\n",
    "    return result"
   ]
  },
  {
   "cell_type": "code",
   "execution_count": 9,
   "id": "8d77a0ff",
   "metadata": {},
   "outputs": [
    {
     "ename": "ModuleNotFoundError",
     "evalue": "No module named 'module1'",
     "output_type": "error",
     "traceback": [
      "\u001b[31m---------------------------------------------------------------------------\u001b[39m",
      "\u001b[31mModuleNotFoundError\u001b[39m                       Traceback (most recent call last)",
      "\u001b[36mCell\u001b[39m\u001b[36m \u001b[39m\u001b[32mIn[9]\u001b[39m\u001b[32m, line 9\u001b[39m\n\u001b[32m      6\u001b[39m question = \u001b[33m'\u001b[39m\u001b[33mWhat is your quest?\u001b[39m\u001b[33m'\u001b[39m\n\u001b[32m      7\u001b[39m answer = \u001b[33m'\u001b[39m\u001b[33mTo seek the holy grail.\u001b[39m\u001b[33m'\u001b[39m\n\u001b[32m----> \u001b[39m\u001b[32m9\u001b[39m \u001b[38;5;28;01mimport\u001b[39;00m\u001b[38;5;250m \u001b[39m\u001b[34;01mmodule1\u001b[39;00m\n\u001b[32m     10\u001b[39m \u001b[38;5;28;01mimport\u001b[39;00m\u001b[38;5;250m \u001b[39m\u001b[34;01mmodule2\u001b[39;00m\n\u001b[32m     11\u001b[39m \u001b[38;5;28mprint\u001b[39m(module1.question)\n",
      "\u001b[31mModuleNotFoundError\u001b[39m: No module named 'module1'"
     ]
    }
   ],
   "source": [
    "#module1.py\n",
    "question = 'what is the meaning of Life, the Universe, and Everything?'\n",
    "answer =  42\n",
    "\n",
    "#module2.py\n",
    "question = 'What is your quest?'\n",
    "answer = 'To seek the holy grail.'\n",
    "\n",
    "import module1\n",
    "import module2\n",
    "print(module1.question)\n",
    "print(module2.question)\n",
    "print(module1.answer)\n",
    "print(module2.answer)"
   ]
  }
 ],
 "metadata": {
  "kernelspec": {
   "display_name": "Python 3",
   "language": "python",
   "name": "python3"
  },
  "language_info": {
   "codemirror_mode": {
    "name": "ipython",
    "version": 3
   },
   "file_extension": ".py",
   "mimetype": "text/x-python",
   "name": "python",
   "nbconvert_exporter": "python",
   "pygments_lexer": "ipython3",
   "version": "3.13.7"
  }
 },
 "nbformat": 4,
 "nbformat_minor": 5
}

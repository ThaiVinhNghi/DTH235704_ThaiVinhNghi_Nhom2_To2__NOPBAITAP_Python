{
 "cells": [
  {
   "cell_type": "code",
   "execution_count": null,
   "id": "1b7d7c2c",
   "metadata": {},
   "outputs": [
    {
     "name": "stdout",
     "output_type": "stream",
     "text": [
      "Câu 1: Xử lý List\n",
      "Chương trình xử lý List\n",
      "List ngẫu nhiên là:\n",
      "[87, -55, 41, 89, 62, -57, -13, -52, 97, -60, 66, 99, 89, 52, -46, -31, -36, 91, 61, 96, 74, -17, 17, 19, -76, 67, -63, 4, -94, 12, 83, -61, 81, 59, -7, 35, -42, -95, 86, -77, -83, 47, 90, -57, 5, 35, 95, -20, -48, 64, -37, -38, -19, -67]\n",
      "Mời bạn thêm số mới:\n",
      "[87, -55, 41, 89, 62, -57, -13, -52, 97, -60, 66, 99, 89, 52, -46, -31, -36, 91, 61, 96, 74, -17, 17, 19, -76, 67, -63, 4, -94, 12, 83, -61, 81, 59, -7, 35, -42, -95, 86, -77, -83, 47, 90, -57, 5, 35, 95, -20, -48, 64, -37, -38, -19, -67, 4]\n",
      "bạn muốn đếm số nào:\n"
     ]
    },
    {
     "ename": "ValueError",
     "evalue": "invalid literal for int() with base 10: 'escape'",
     "output_type": "error",
     "traceback": [
      "\u001b[31m---------------------------------------------------------------------------\u001b[39m",
      "\u001b[31mValueError\u001b[39m                                Traceback (most recent call last)",
      "\u001b[36mCell\u001b[39m\u001b[36m \u001b[39m\u001b[32mIn[1]\u001b[39m\u001b[32m, line 16\u001b[39m\n\u001b[32m     14\u001b[39m \u001b[38;5;28mprint\u001b[39m(lst) \n\u001b[32m     15\u001b[39m \u001b[38;5;28mprint\u001b[39m(\u001b[33m\"\u001b[39m\u001b[33mbạn muốn đếm số nào:\u001b[39m\u001b[33m\"\u001b[39m) \n\u001b[32m---> \u001b[39m\u001b[32m16\u001b[39m k=\u001b[38;5;28;43mint\u001b[39;49m\u001b[43m(\u001b[49m\u001b[38;5;28;43minput\u001b[39;49m\u001b[43m(\u001b[49m\u001b[43m)\u001b[49m\u001b[43m)\u001b[49m \n\u001b[32m     17\u001b[39m dem=lst.count(k) \n\u001b[32m     18\u001b[39m \u001b[38;5;28mprint\u001b[39m(k,\u001b[33m\"\u001b[39m\u001b[33mxuất hiện \u001b[39m\u001b[33m\"\u001b[39m,dem,\u001b[33m\"\u001b[39m\u001b[33mtrong list\u001b[39m\u001b[33m\"\u001b[39m) \n",
      "\u001b[31mValueError\u001b[39m: invalid literal for int() with base 10: 'escape'"
     ]
    }
   ],
   "source": [
    "print('Câu 1: Xử lý List')\n",
    "from random import randrange \n",
    " \n",
    "print(\"Chương trình xử lý List\") \n",
    "n=int(input(\"Nhập số phần tử\")) \n",
    "lst=[0]*n \n",
    "for i in range(n): \n",
    "    lst[i]=randrange(-100,100) \n",
    "print(\"List ngẫu nhiên là:\") \n",
    "print(lst) \n",
    "print(\"Mời bạn thêm số mới:\") \n",
    "value=int(input()) \n",
    "lst.append(value) \n",
    "print(lst) \n",
    "print(\"bạn muốn đếm số nào:\") \n",
    "k=int(input()) \n",
    "dem=lst.count(k) \n",
    "print(k,\"xuất hiện \",dem,\"trong list\") \n",
    "def CheckPrime(n):\n",
    "    d=0 \n",
    "    for i in range(1,n+1): \n",
    "        if n%i ==0: \n",
    "            d+=1 \n",
    "    return d==2 \n",
    "demnt=0 \n",
    "tongnt=0 \n",
    "for x in lst: \n",
    "    if CheckPrime(x): \n",
    "        demnt+=1 \n",
    "        tongnt+=x \n",
    "print(\"Có \",demnt,\"số nguyên tố trong list\") \n",
    "print(\"Tổng=\",tongnt) \n",
    "lst.sort() \n",
    "print(\"List sau khi sort:\") \n",
    "print(lst) \n",
    " \n",
    "del lst \n",
    "print(\"List sau khi xóa:\") \n"
   ]
  },
  {
   "cell_type": "code",
   "execution_count": null,
   "id": "d68e0f64",
   "metadata": {},
   "outputs": [
    {
     "name": "stdout",
     "output_type": "stream",
     "text": [
      "Câu 2: Xử lý List nhập ngẫu nhiên\n",
      "Nhập số phần tử:\n",
      "List sau khi tạo ngẫu nhiên là:\n",
      "[62, 51, 38, 83, 69, 97, 5, 13, 43, 5, 93, 74, 44, 38, 65, 67, 70, 86, 25, 6, 66, 13, 53]\n",
      "List sau khi chèn:\n",
      "[62, 51, 38, 83, 69, 97, 5, 13, 43, 5, 93, 74, 44, 38, 65, 67, 70, 86, 25, 6, 66, 13, 53, 3]\n",
      "List sau khi xóa:\n",
      "[62, 51, 38, 83, 69, 97, 5, 13, 43, 5, 93, 74, 44, 38, 67, 70, 86, 25, 6, 66, 13, 53, 3]\n",
      "List không đối xứng\n"
     ]
    }
   ],
   "source": [
    "print('Câu 2: Xử lý List nhập ngẫu nhiên')\n",
    "from random import randrange\n",
    "lst = []\n",
    "print(\"Nhập số phần tử:\") \n",
    "n=int(input()) \n",
    "for i in range(n): \n",
    "    lst.append(randrange(0,100)) \n",
    "print(\"List sau khi tạo ngẫu nhiên là:\") \n",
    "print(lst) \n",
    "x=int(input(\"Mời bạn chèn thêm số mới\")) \n",
    "lst.append(x) \n",
    "print(\"List sau khi chèn:\") \n",
    "print(lst) \n",
    "k=int(input(\"Mời nhập số để xóa\")) \n",
    "while lst.count(k)>0: \n",
    "    lst.remove(k) \n",
    "print(\"List sau khi xóa:\") \n",
    "print(lst) \n",
    " \n",
    "def CheckDoiXung(lst): \n",
    "    for i in range(len(lst)): \n",
    "        if lst[i]!=lst[len(lst)-i-1]: \n",
    "            return  False \n",
    "    return True \n",
    "kt=CheckDoiXung(lst) \n",
    "if kt==True: \n",
    "    print(\"List đối xứng\") \n",
    "else: \n",
    "    print(\"List không đối xứng\") "
   ]
  },
  {
   "cell_type": "code",
   "execution_count": null,
   "id": "3e43d985",
   "metadata": {},
   "outputs": [
    {
     "name": "stdout",
     "output_type": "stream",
     "text": [
      "Câu 3: Xử lý List Đa chiều\n",
      "Nhập số dòng:\n",
      "Nhập số cột:\n",
      "\n",
      "Ma trận ngẫu nhiên:\n",
      "6\t71\t\n",
      "56\t42\t\n",
      "Mời bạn nhập dòng muốn xuất:\n",
      "56\t42\t\n",
      "Mời bạn nhập cột muốn xuất:\n"
     ]
    },
    {
     "ename": "IndexError",
     "evalue": "list index out of range",
     "output_type": "error",
     "traceback": [
      "\u001b[31m---------------------------------------------------------------------------\u001b[39m",
      "\u001b[31mIndexError\u001b[39m                                Traceback (most recent call last)",
      "\u001b[36mCell\u001b[39m\u001b[36m \u001b[39m\u001b[32mIn[3]\u001b[39m\u001b[32m, line 57\u001b[39m\n\u001b[32m     55\u001b[39m \u001b[38;5;28mprint\u001b[39m(\u001b[33m\"\u001b[39m\u001b[33mMời bạn nhập cột muốn xuất:\u001b[39m\u001b[33m\"\u001b[39m) \n\u001b[32m     56\u001b[39m c = \u001b[38;5;28mint\u001b[39m(\u001b[38;5;28minput\u001b[39m()) \n\u001b[32m---> \u001b[39m\u001b[32m57\u001b[39m XuatList1Chieu(\u001b[43mLayCot\u001b[49m\u001b[43m(\u001b[49m\u001b[43mD\u001b[49m\u001b[43m,\u001b[49m\u001b[43m \u001b[49m\u001b[43mc\u001b[49m\u001b[43m)\u001b[49m) \n\u001b[32m     59\u001b[39m max_val = MAX(D) \n\u001b[32m     60\u001b[39m \u001b[38;5;28mprint\u001b[39m(\u001b[33m\"\u001b[39m\u001b[38;5;130;01m\\n\u001b[39;00m\u001b[33mSố lớn nhất trong ma trận =\u001b[39m\u001b[33m\"\u001b[39m, max_val)\n",
      "\u001b[36mCell\u001b[39m\u001b[36m \u001b[39m\u001b[32mIn[3]\u001b[39m\u001b[32m, line 30\u001b[39m, in \u001b[36mLayCot\u001b[39m\u001b[34m(D, c)\u001b[39m\n\u001b[32m     28\u001b[39m C = [] \n\u001b[32m     29\u001b[39m \u001b[38;5;28;01mfor\u001b[39;00m i \u001b[38;5;129;01min\u001b[39;00m \u001b[38;5;28mrange\u001b[39m(\u001b[38;5;28mlen\u001b[39m(D)): \n\u001b[32m---> \u001b[39m\u001b[32m30\u001b[39m     C.append(\u001b[43mD\u001b[49m\u001b[43m[\u001b[49m\u001b[43mi\u001b[49m\u001b[43m]\u001b[49m\u001b[43m[\u001b[49m\u001b[43mc\u001b[49m\u001b[43m]\u001b[49m) \n\u001b[32m     31\u001b[39m \u001b[38;5;28;01mreturn\u001b[39;00m C\n",
      "\u001b[31mIndexError\u001b[39m: list index out of range"
     ]
    }
   ],
   "source": [
    "print('Câu 3: Xử lý List Đa chiều')\n",
    "from random import randrange \n",
    " \n",
    "def TaoMaTran(m, n): \n",
    "    D = [] \n",
    "    for i in range(m): \n",
    "        row = [] \n",
    "        for j in range(n): \n",
    "            row.append(randrange(100)) \n",
    "        D.append(row) \n",
    "    return D \n",
    "\n",
    "def XuatMaTran(D): \n",
    "    for row in D: \n",
    "        for element in row: \n",
    "            print(element, end='\\t') \n",
    "        print() \n",
    "\n",
    "def LayDong(D, r): \n",
    "    return D[r] \n",
    "\n",
    "def XuatList1Chieu(R): \n",
    "    for element in R: \n",
    "        print(element, end='\\t') \n",
    "    print()\n",
    "\n",
    "def LayCot(D, c): \n",
    "    C = [] \n",
    "    for i in range(len(D)): \n",
    "        C.append(D[i][c]) \n",
    "    return C \n",
    "\n",
    "def MAX(D): \n",
    "    max_val = D[0][0] \n",
    "    for i in range(len(D)): \n",
    "        for j in range(len(D[i])): \n",
    "            if max_val < D[i][j]: \n",
    "                max_val = D[i][j] \n",
    "    return max_val\n",
    "\n",
    "# Main chương trình\n",
    "print(\"Nhập số dòng:\") \n",
    "m = int(input()) \n",
    "print(\"Nhập số cột:\") \n",
    "n = int(input()) \n",
    "D = TaoMaTran(m, n) \n",
    "\n",
    "print(\"\\nMa trận ngẫu nhiên:\")\n",
    "XuatMaTran(D) \n",
    "\n",
    "print(\"Mời bạn nhập dòng muốn xuất:\") \n",
    "r = int(input()) \n",
    "XuatList1Chieu(LayDong(D, r)) \n",
    "\n",
    "print(\"Mời bạn nhập cột muốn xuất:\") \n",
    "c = int(input()) \n",
    "XuatList1Chieu(LayCot(D, c)) \n",
    "\n",
    "max_val = MAX(D) \n",
    "print(\"\\nSố lớn nhất trong ma trận =\", max_val)"
   ]
  },
  {
   "cell_type": "code",
   "execution_count": null,
   "id": "0df7ec53",
   "metadata": {},
   "outputs": [
    {
     "name": "stdout",
     "output_type": "stream",
     "text": [
      "Câu 5: Xác định kết quả khi thực thi list\n",
      "a) lst = [20, 1, -34, 40, -8, 60, 1, 3]\n",
      "b) lst[0:3] = [20, 1, -34]\n",
      "c) lst[4:8] = [-8, 60, 1, 3]\n",
      "d) lst[4:33] = [-8, 60, 1, 3]\n",
      "e) lst[-5:-3] = [40, -8]\n",
      "f) lst[-22:3] = [20, 1, -34]\n",
      "g) lst[4:] = [-8, 60, 1, 3]\n",
      "h) lst[:] = [20, 1, -34, 40, -8, 60, 1, 3]\n",
      "i) lst[:4] = [20, 1, -34, 40]\n",
      "j) lst[1:5] = [1, -34, 40, -8]\n",
      "k) -34 in lst = True\n",
      "l) -34 not in lst = False\n",
      "m) len(lst) = 8\n"
     ]
    }
   ],
   "source": [
    "print('Câu 5: Xác định kết quả khi thực thi list')\n",
    "lst = [20, 1, -34, 40, -8, 60, 1, 3]\n",
    "print(\"a) lst =\", lst)\n",
    "print(\"b) lst[0:3] =\", lst[0:3])\n",
    "print(\"c) lst[4:8] =\", lst[4:8])\n",
    "print(\"d) lst[4:33] =\", lst[4:33])\n",
    "print(\"e) lst[-5:-3] =\", lst[-5:-3])\n",
    "print(\"f) lst[-22:3] =\", lst[-22:3])\n",
    "print(\"g) lst[4:] =\", lst[4:])\n",
    "print(\"h) lst[:] =\", lst[:])\n",
    "print(\"i) lst[:4] =\", lst[:4])\n",
    "print(\"j) lst[1:5] =\", lst[1:5])\n",
    "print(\"k) -34 in lst =\", -34 in lst)\n",
    "print(\"l) -34 not in lst =\", -34 not in lst)\n",
    "print(\"m) len(lst) =\", len(lst))\n"
   ]
  },
  {
   "cell_type": "code",
   "execution_count": 5,
   "id": "3e50bf36",
   "metadata": {},
   "outputs": [
    {
     "name": "stdout",
     "output_type": "stream",
     "text": [
      "Câu 6: Nhập vào 1 list có N số ngẫu nhiên KHÔNG TRÙNG NHAU\n"
     ]
    },
    {
     "ename": "KeyboardInterrupt",
     "evalue": "",
     "output_type": "error",
     "traceback": [
      "\u001b[31m---------------------------------------------------------------------------\u001b[39m",
      "\u001b[31mKeyboardInterrupt\u001b[39m                         Traceback (most recent call last)",
      "\u001b[36mCell\u001b[39m\u001b[36m \u001b[39m\u001b[32mIn[5]\u001b[39m\u001b[32m, line 5\u001b[39m\n\u001b[32m      3\u001b[39m n = \u001b[38;5;28mint\u001b[39m(\u001b[38;5;28minput\u001b[39m(\u001b[33m\"\u001b[39m\u001b[33mNhập số phần tử N: \u001b[39m\u001b[33m\"\u001b[39m))\n\u001b[32m      4\u001b[39m lst = []    \n\u001b[32m----> \u001b[39m\u001b[32m5\u001b[39m \u001b[38;5;28;01mwhile\u001b[39;00m \u001b[38;5;28mlen\u001b[39m(lst) < n:\n\u001b[32m      6\u001b[39m     num = randrange(\u001b[32m0\u001b[39m, \u001b[32m100\u001b[39m)\n\u001b[32m      7\u001b[39m     \u001b[38;5;28;01mif\u001b[39;00m num \u001b[38;5;129;01mnot\u001b[39;00m \u001b[38;5;129;01min\u001b[39;00m lst:\n",
      "\u001b[31mKeyboardInterrupt\u001b[39m: "
     ]
    }
   ],
   "source": [
    "print('Câu 6: Nhập vào 1 list có N số ngẫu nhiên KHÔNG TRÙNG NHAU')\n",
    "from random import randrange\n",
    "n = int(input(\"Nhập số phần tử N: \"))\n",
    "lst = []    \n",
    "while len(lst) < n:\n",
    "    num = randrange(0, 100)\n",
    "    if num not in lst:\n",
    "        lst.append(num)\n",
    "print(\"List ngẫu nhiên không trùng nhau là:\")\n",
    "print(lst)"
   ]
  }
 ],
 "metadata": {
  "kernelspec": {
   "display_name": "Python 3",
   "language": "python",
   "name": "python3"
  },
  "language_info": {
   "codemirror_mode": {
    "name": "ipython",
    "version": 3
   },
   "file_extension": ".py",
   "mimetype": "text/x-python",
   "name": "python",
   "nbconvert_exporter": "python",
   "pygments_lexer": "ipython3",
   "version": "3.13.7"
  }
 },
 "nbformat": 4,
 "nbformat_minor": 5
}

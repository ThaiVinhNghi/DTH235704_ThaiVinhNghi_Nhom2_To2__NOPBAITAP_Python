{
 "cells": [
  {
   "cell_type": "code",
   "execution_count": 1,
   "id": "f8f6a87f",
   "metadata": {},
   "outputs": [
    {
     "name": "stdout",
     "output_type": "stream",
     "text": [
      "Câu 1: Chương trình kiểm tra năm nhuần\n",
      "Năm 4 là năm nhuần\n"
     ]
    }
   ],
   "source": [
    "print('Câu 1: Chương trình kiểm tra năm nhuần')\n",
    "year = int(input('Mời nhập năm cần kiểm tra: '))\n",
    "if(year % 4 == 0 and year % 100 != 0) or (year % 400 == 0):\n",
    "    print(f'Năm {year} là năm nhuần')\n",
    "else:\n",
    "    print(f'Năm {year} không phải là năm nhuần')\n"
   ]
  },
  {
   "cell_type": "code",
   "execution_count": 2,
   "id": "d79be8b5",
   "metadata": {},
   "outputs": [
    {
     "name": "stdout",
     "output_type": "stream",
     "text": [
      "Câu 2: Chương trình đếm số ngày trong tháng\n",
      "Tháng 7 có 31 ngày\n"
     ]
    }
   ],
   "source": [
    "print('Câu 2: Chương trình đếm số ngày trong tháng')\n",
    "month = int(input('Mời nhập tháng cần kiểm tra: '))\n",
    "if month in [1, 3, 5, 7, 8, 10, 12]:\n",
    "    print(f'Tháng {month} có 31 ngày')\n",
    "elif month in [4, 6, 9, 11]:\n",
    "    print(f'Tháng {month} có 30 ngày')\n",
    "elif month == 2:\n",
    "        year = int(input('Mời nhập năm để kiểm tra số ngày trong tháng 2: '))\n",
    "\n",
    "        if (year % 4 == 0 and year % 100 != 0) or (year % 400 == 0):\n",
    "            print(f'Tháng {month} có 29 ngày')\n",
    "        else:\n",
    "            print(f'Tháng {month} có 28 ngày')"
   ]
  },
  {
   "cell_type": "code",
   "execution_count": 3,
   "id": "4426c801",
   "metadata": {},
   "outputs": [
    {
     "name": "stdout",
     "output_type": "stream",
     "text": [
      "Câu 3: Chương trình giải phương trình bậc 2!\n",
      "Vô No\n"
     ]
    }
   ],
   "source": [
    "print('Câu 3: Chương trình giải phương trình bậc 2!')\n",
    "from math import sqrt\n",
    "a=float(input(\"Nhập a:\"))\n",
    "b=float(input(\"Nhập b:\"))\n",
    "c=float(input(\"Nhập c:\"))\n",
    "if a == 0:\n",
    "    if b == 0 and c ==0:\n",
    "        print(\"Vô số nghiệm\")\n",
    "    elif b==0 and c !=0:\n",
    "        print(\"Vô nghiệm\")\n",
    "    else:\n",
    "        x=-c/b\n",
    "        print(\"No x=\",x)\n",
    "else:\n",
    "    delta=b**2-4*a*c\n",
    "    if delta <0 :\n",
    "         print(\"Vô No\")\n",
    "    elif delta ==0:\n",
    "        x=-b/(2*a)\n",
    "        print(\"No kép x1=x2=\",x)\n",
    "    else:\n",
    "        x1=(-b-sqrt(delta))/(2*a)\n",
    "        x2=(-b+sqrt(delta))/(2*a)\n",
    "        print(\"x1=\",x1)\n",
    "        print(\"x2=\",x2)"
   ]
  },
  {
   "cell_type": "code",
   "execution_count": 4,
   "id": "22e76ad4",
   "metadata": {},
   "outputs": [
    {
     "name": "stdout",
     "output_type": "stream",
     "text": [
      "Câu 4: Chương trình cho biết kết quả của Boolean Expression\n",
      "x ==3 True\n",
      "x < y True\n",
      "x >= y False\n",
      "x <= y True\n",
      "x != y - 2 False\n",
      "x < 10 True\n",
      "x >= 0 and x < 10 True\n",
      "x < 0 and x < 10 False\n",
      "x >= 0 and x < 2 False\n",
      "x < 0 or x < 10 True\n",
      "x > 0 or x < 10 True\n",
      "x < 0 or x > 10 False\n"
     ]
    }
   ],
   "source": [
    "print('Câu 4: Chương trình cho biết kết quả của Boolean Expression')\n",
    "x, y, z = 3, 5, 7\n",
    "print('x ==3', x == 3)\n",
    "print('x < y', x < y)\n",
    "print('x >= y', x >= y)\n",
    "print('x <= y', x <= y)\n",
    "print('x != y - 2', x != y - 2)\n",
    "print('x < 10', x < 10 )\n",
    "print('x >= 0 and x < 10', x >= 0 and x < 10)\n",
    "print('x < 0 and x < 10', x < 0 and x < 10)\n",
    "print('x >= 0 and x < 2', x >= 0 and x < 2)\n",
    "print('x < 0 or x < 10', x < 0 or x < 10)\n",
    "print('x > 0 or x < 10', x > 0 or x < 10)\n",
    "print('x < 0 or x > 10', x < 0 or x > 10)"
   ]
  },
  {
   "cell_type": "code",
   "execution_count": 5,
   "id": "4ced8ae7",
   "metadata": {},
   "outputs": [
    {
     "name": "stdout",
     "output_type": "stream",
     "text": [
      "Câu 5: Chương trình cho biết kết quả xuất ra màn hình\n",
      "(a) i = 3, j = 5, and k = 7\n",
      "(b) i = 3, j = 7, and k = 5\n",
      "(c) i = 5, j = 3, and k = 7\n",
      "(d) i = 5, j = 7, and k = 3\n",
      "(e) i = 7, j = 3, and k = 5\n",
      "(f) i = 7, j = 5, and k = 3\n",
      "Kết quả:\n",
      "(a) i = 5, j = 5, k = 7\n",
      "(b) i = 3, j = 5, k = 5\n",
      "(c) i = 5, j = 5, k = 7\n",
      "(d) i = 5, j = 3, k = 3\n",
      "(e) i = 5, j = 3, k = 5\n",
      "(f) i = 3, j = 5, k = 3\n"
     ]
    }
   ],
   "source": [
    "print('Câu 5: Chương trình cho biết kết quả xuất ra màn hình')\n",
    "print('(a) i = 3, j = 5, and k = 7\\n(b) i = 3, j = 7, and k = 5\\n'\n",
    "      '(c) i = 5, j = 3, and k = 7\\n(d) i = 5, j = 7, and k = 3\\n'\n",
    "      '(e) i = 7, j = 3, and k = 5\\n(f) i = 7, j = 5, and k = 3')\n",
    "print('Kết quả:')\n",
    "def temp(i, j, k):\n",
    "    if i < j:\n",
    "        if j < k:\n",
    "            i = j\n",
    "        else:\n",
    "            j = k\n",
    "    else:\n",
    "        if i < k:\n",
    "            j = i\n",
    "        else:\n",
    "            i = k\n",
    "    return i, j, k\n",
    "array = [\n",
    "    (\"(a)\", 3, 5, 7),\n",
    "    (\"(b)\", 3, 7, 5),\n",
    "    (\"(c)\", 5, 3, 7),\n",
    "    (\"(d)\", 5, 7, 3),\n",
    "    (\"(e)\", 7, 3, 5),\n",
    "    (\"(f)\", 7, 5, 3),\n",
    "]\n",
    "for label, i, j, k in array:\n",
    "    i, j, k = temp(i, j, k)\n",
    "    print(f\"{label} i = {i}, j = {j}, k = {k}\")"
   ]
  },
  {
   "cell_type": "code",
   "execution_count": 6,
   "id": "a1c18008",
   "metadata": {},
   "outputs": [
    {
     "name": "stdout",
     "output_type": "stream",
     "text": [
      "Câu 6: Chương trình đọc số\n",
      "Số 54 đọc là: năm mươi bốn\n"
     ]
    }
   ],
   "source": [
    "print('Câu 6: Chương trình đọc số')\n",
    "def doc_so(n):\n",
    "    hang_chuc = [\"\", \"mười\", \"hai mươi\", \"ba mươi\", \"bốn mươi\",\n",
    "                 \"năm mươi\", \"sáu mươi\", \"bảy mươi\", \"tám mươi\", \"chín mươi\"]\n",
    "    hang_don_vi = [\"không\", \"một\", \"hai\", \"ba\", \"bốn\",\n",
    "                   \"năm\", \"sáu\", \"bảy\", \"tám\", \"chín\"]\n",
    "\n",
    "    if n < 10:  \n",
    "        return hang_don_vi[n]\n",
    "    elif 10 <= n < 20:\n",
    "        if n == 10:\n",
    "            return \"mười\"\n",
    "        elif n == 15:\n",
    "            return \"mười lăm\"\n",
    "        else:\n",
    "            return \"mười \" + hang_don_vi[n % 10]\n",
    "    else:  \n",
    "        chuc = n // 10\n",
    "        don_vi = n % 10\n",
    "        if don_vi == 0:\n",
    "            return hang_chuc[chuc]\n",
    "        elif don_vi == 5:\n",
    "            return hang_chuc[chuc] + \" lăm\"\n",
    "        else:\n",
    "            return hang_chuc[chuc] + \" \" + hang_don_vi[don_vi]\n",
    "\n",
    "while(True):\n",
    "    try:\n",
    "        n = int(input(\"Nhập một số nguyên dương nhỏ hơn 100: \"))\n",
    "        if 0 <= n < 100:\n",
    "            print(f\"Số {n} đọc là: {doc_so(n)}\")\n",
    "            break\n",
    "        else:\n",
    "            print(\"Vui lòng nhập số trong khoảng từ 0 đến 99.\")\n",
    "    except ValueError:\n",
    "        print(\"Đầu vào không hợp lệ. Vui lòng nhập một số nguyên dương.\")"
   ]
  },
  {
   "cell_type": "code",
   "execution_count": 7,
   "id": "4a168a1e",
   "metadata": {},
   "outputs": [
    {
     "name": "stdout",
     "output_type": "stream",
     "text": [
      "Chương trình Tìm ngày kế sau ngày vừa nhập\n",
      "Ngày kế sau ngày 23/4/2034 là 24/4/2034\n"
     ]
    }
   ],
   "source": [
    "print('Chương trình Tìm ngày kế sau ngày vừa nhập')\n",
    "while True:\n",
    "    try:\n",
    "        ngay = int(input(\"Nhập ngày: \"))\n",
    "        thang = int(input(\"Nhập tháng: \"))\n",
    "        nam = int(input(\"Nhập năm: \"))\n",
    "        break\n",
    "    except ValueError:\n",
    "        print(\"Dữ liệu không hợp lệ. Vui lòng nhập lại!\")\n",
    "def ngay_ke_sau(ngay, thang, nam):\n",
    "    if thang in [1, 3, 5, 7, 8, 10]:\n",
    "        if ngay < 31:\n",
    "            ngay += 1\n",
    "        else:\n",
    "            ngay = 1\n",
    "            thang += 1\n",
    "    elif thang in [4, 6, 9, 11]:\n",
    "        if ngay < 30:\n",
    "            ngay += 1\n",
    "        else:\n",
    "            ngay = 1\n",
    "            thang += 1\n",
    "    elif thang == 2:\n",
    "        if (nam % 4 == 0 and nam % 100 != 0) or (nam % 400 == 0):\n",
    "            if ngay < 29:\n",
    "                ngay += 1\n",
    "            else:\n",
    "                ngay = 1\n",
    "                thang += 1\n",
    "        else:\n",
    "            if ngay < 28:\n",
    "                ngay += 1\n",
    "            else:\n",
    "                ngay = 1\n",
    "                thang += 1\n",
    "    elif thang == 12:\n",
    "        if ngay < 31:\n",
    "            ngay += 1\n",
    "        else:\n",
    "            ngay = 1\n",
    "            thang = 1\n",
    "            nam += 1\n",
    "    return ngay, thang, nam\n",
    "ngay_moi, thang_moi, nam_moi = ngay_ke_sau(ngay, thang, nam)\n",
    "print(f\"Ngày kế sau ngày {ngay}/{thang}/{nam} là {ngay_moi}/{thang_moi}/{nam_moi}\")"
   ]
  },
  {
   "cell_type": "code",
   "execution_count": 8,
   "id": "e8d25b65",
   "metadata": {},
   "outputs": [
    {
     "name": "stdout",
     "output_type": "stream",
     "text": [
      "Câu 8: Chương trình xuất kết quả theo phép toán đã nhập\n",
      "Phép toán không hợp lệ.\n"
     ]
    }
   ],
   "source": [
    "print('Câu 8: Chương trình xuất kết quả theo phép toán đã nhập')\n",
    "phep_toan = input(\"Nhập phép toán (+, -, *, /): \")\n",
    "try:\n",
    "    so1 = float(input(\"Nhập số thứ nhất: \"))\n",
    "    so2 = float(input(\"Nhập số thứ hai: \"))\n",
    "    if phep_toan == '+':\n",
    "        ket_qua = so1 + so2\n",
    "    elif phep_toan == '-':\n",
    "        ket_qua = so1 - so2\n",
    "    elif phep_toan == '*':\n",
    "        ket_qua = so1 * so2\n",
    "    elif phep_toan == '/':\n",
    "        if so2 != 0:\n",
    "            ket_qua = so1 / so2\n",
    "        else:\n",
    "            print(\"Lỗi: Không thể chia cho 0.\")\n",
    "            ket_qua = None\n",
    "    else:\n",
    "        print(\"Phép toán không hợp lệ.\")\n",
    "        ket_qua = None\n",
    "\n",
    "    if ket_qua is not None:\n",
    "        print(f\"Kết quả của {so1} {phep_toan} {so2} = {ket_qua}\")\n",
    "except ValueError:\n",
    "    print(\"Dữ liệu không hợp lệ. Vui lòng nhập lại!\")"
   ]
  },
  {
   "cell_type": "code",
   "execution_count": 9,
   "id": "dcc90171",
   "metadata": {},
   "outputs": [
    {
     "name": "stdout",
     "output_type": "stream",
     "text": [
      "Câu 9: Chương trình xuất ra tháng vừa nhập thuộc quý mấy trong năm\n",
      "Tháng 7 thuộc quý 3 trong năm.\n"
     ]
    }
   ],
   "source": [
    "print('Câu 9: Chương trình xuất ra tháng vừa nhập thuộc quý mấy trong năm')\n",
    "while(True):\n",
    "    try:\n",
    "        thang = int(input(\"Nhập tháng (1-12): \"))\n",
    "        if 1 <= thang <= 12:\n",
    "            if thang in [1, 2, 3]:\n",
    "                quy = 1\n",
    "            elif thang in [4, 5, 6]:\n",
    "                quy = 2\n",
    "            elif thang in [7, 8, 9]:\n",
    "                quy = 3\n",
    "            else:\n",
    "                quy = 4\n",
    "            print(f'Tháng {thang} thuộc quý {quy} trong năm.')\n",
    "            break\n",
    "        else:\n",
    "            print(\"Vui lòng nhập tháng trong khoảng từ 1 đến 12.\")\n",
    "    except ValueError:\n",
    "        print(\"Dữ liệu không hợp lệ. Vui lòng nhập lại!\")\n"
   ]
  },
  {
   "cell_type": "code",
   "execution_count": 10,
   "id": "3d88f7a2",
   "metadata": {},
   "outputs": [
    {
     "name": "stdout",
     "output_type": "stream",
     "text": [
      "Câu 10: Chương trình tính tổng S = x + x^2/2! + x^3/3! + ... + x^N/N!\n",
      "s(4,5)=41.86666666666666\n"
     ]
    }
   ],
   "source": [
    "print('Câu 10: Chương trình tính tổng S = x + x^2/2! + x^3/3! + ... + x^N/N!')\n",
    "x=int(input(\"Nhập x:\"))\n",
    "n=int(input(\"Nhập N:\"))\n",
    "s=0\n",
    "for i in range(1,n+1):\n",
    "    tu=x**i\n",
    "    mau=1\n",
    "    for j in range(1,i+1):\n",
    "        mau=mau*j\n",
    "    s=s+(tu/mau)\n",
    "print(\"s({0},{1})={2}\".format(x,n,s))\n"
   ]
  }
 ],
 "metadata": {
  "kernelspec": {
   "display_name": "Python 3",
   "language": "python",
   "name": "python3"
  },
  "language_info": {
   "codemirror_mode": {
    "name": "ipython",
    "version": 3
   },
   "file_extension": ".py",
   "mimetype": "text/x-python",
   "name": "python",
   "nbconvert_exporter": "python",
   "pygments_lexer": "ipython3",
   "version": "3.13.7"
  }
 },
 "nbformat": 4,
 "nbformat_minor": 5
}
